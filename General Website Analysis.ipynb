{
 "cells": [
  {
   "cell_type": "code",
   "execution_count": 235,
   "metadata": {},
   "outputs": [],
   "source": [
    "import pandas as pd\n",
    "%matplotlib inline\n",
    "import random\n",
    "import matplotlib.pyplot as plt\n",
    "import seaborn as sns"
   ]
  },
  {
   "cell_type": "code",
   "execution_count": 236,
   "metadata": {},
   "outputs": [],
   "source": [
    "df = pd.read_csv('all-domains-30-days-2.csv', index_col = \"domain\")"
   ]
  },
  {
   "cell_type": "code",
   "execution_count": 237,
   "metadata": {},
   "outputs": [
    {
     "data": {
      "text/html": [
       "<div>\n",
       "<style scoped>\n",
       "    .dataframe tbody tr th:only-of-type {\n",
       "        vertical-align: middle;\n",
       "    }\n",
       "\n",
       "    .dataframe tbody tr th {\n",
       "        vertical-align: top;\n",
       "    }\n",
       "\n",
       "    .dataframe thead th {\n",
       "        text-align: right;\n",
       "    }\n",
       "</style>\n",
       "<table border=\"1\" class=\"dataframe\">\n",
       "  <thead>\n",
       "    <tr style=\"text-align: right;\">\n",
       "      <th></th>\n",
       "      <th>visits</th>\n",
       "      <th>pageviews</th>\n",
       "      <th>users</th>\n",
       "      <th>pageviews_per_session</th>\n",
       "      <th>avg_session_duration</th>\n",
       "      <th>exits</th>\n",
       "    </tr>\n",
       "    <tr>\n",
       "      <th>domain</th>\n",
       "      <th></th>\n",
       "      <th></th>\n",
       "      <th></th>\n",
       "      <th></th>\n",
       "      <th></th>\n",
       "      <th></th>\n",
       "    </tr>\n",
       "  </thead>\n",
       "  <tbody>\n",
       "    <tr>\n",
       "      <th>tools.usps.com</th>\n",
       "      <td>169826683</td>\n",
       "      <td>244948264</td>\n",
       "      <td>61743402</td>\n",
       "      <td>1.442343</td>\n",
       "      <td>96.203466</td>\n",
       "      <td>171018521</td>\n",
       "    </tr>\n",
       "    <tr>\n",
       "      <th>ncbi.nlm.nih.gov</th>\n",
       "      <td>124014952</td>\n",
       "      <td>224875543</td>\n",
       "      <td>68751094</td>\n",
       "      <td>1.813294</td>\n",
       "      <td>175.393462</td>\n",
       "      <td>122838694</td>\n",
       "    </tr>\n",
       "    <tr>\n",
       "      <th>cdc.gov</th>\n",
       "      <td>109267329</td>\n",
       "      <td>188615647</td>\n",
       "      <td>79109951</td>\n",
       "      <td>1.726185</td>\n",
       "      <td>94.175632</td>\n",
       "      <td>109125555</td>\n",
       "    </tr>\n",
       "    <tr>\n",
       "      <th>pubmed.ncbi.nlm.nih.gov</th>\n",
       "      <td>107153181</td>\n",
       "      <td>340591257</td>\n",
       "      <td>53737060</td>\n",
       "      <td>3.178545</td>\n",
       "      <td>242.998822</td>\n",
       "      <td>108595849</td>\n",
       "    </tr>\n",
       "    <tr>\n",
       "      <th>medlineplus.gov</th>\n",
       "      <td>55414980</td>\n",
       "      <td>70414992</td>\n",
       "      <td>41750137</td>\n",
       "      <td>1.270685</td>\n",
       "      <td>68.748320</td>\n",
       "      <td>55374473</td>\n",
       "    </tr>\n",
       "    <tr>\n",
       "      <th>...</th>\n",
       "      <td>...</td>\n",
       "      <td>...</td>\n",
       "      <td>...</td>\n",
       "      <td>...</td>\n",
       "      <td>...</td>\n",
       "      <td>...</td>\n",
       "    </tr>\n",
       "    <tr>\n",
       "      <th>wwwkc.fiscal.treasury.gov</th>\n",
       "      <td>1558</td>\n",
       "      <td>3116</td>\n",
       "      <td>1558</td>\n",
       "      <td>2.000000</td>\n",
       "      <td>868.976252</td>\n",
       "      <td>1558</td>\n",
       "    </tr>\n",
       "    <tr>\n",
       "      <th>yellowtask.ncifcrf.gov</th>\n",
       "      <td>1558</td>\n",
       "      <td>3116</td>\n",
       "      <td>1558</td>\n",
       "      <td>2.000000</td>\n",
       "      <td>64.998074</td>\n",
       "      <td>1558</td>\n",
       "    </tr>\n",
       "    <tr>\n",
       "      <th>yokota.tricare.mil</th>\n",
       "      <td>1558</td>\n",
       "      <td>1558</td>\n",
       "      <td>1558</td>\n",
       "      <td>1.000000</td>\n",
       "      <td>0.000000</td>\n",
       "      <td>1558</td>\n",
       "    </tr>\n",
       "    <tr>\n",
       "      <th>zh-reg.usps.com</th>\n",
       "      <td>1558</td>\n",
       "      <td>6232</td>\n",
       "      <td>1558</td>\n",
       "      <td>4.000000</td>\n",
       "      <td>300.991656</td>\n",
       "      <td>1558</td>\n",
       "    </tr>\n",
       "    <tr>\n",
       "      <th>zh-store.usps.com</th>\n",
       "      <td>1558</td>\n",
       "      <td>1558</td>\n",
       "      <td>1558</td>\n",
       "      <td>1.000000</td>\n",
       "      <td>15.999358</td>\n",
       "      <td>1558</td>\n",
       "    </tr>\n",
       "  </tbody>\n",
       "</table>\n",
       "<p>3222 rows × 6 columns</p>\n",
       "</div>"
      ],
      "text/plain": [
       "                              visits  pageviews     users  \\\n",
       "domain                                                      \n",
       "tools.usps.com             169826683  244948264  61743402   \n",
       "ncbi.nlm.nih.gov           124014952  224875543  68751094   \n",
       "cdc.gov                    109267329  188615647  79109951   \n",
       "pubmed.ncbi.nlm.nih.gov    107153181  340591257  53737060   \n",
       "medlineplus.gov             55414980   70414992  41750137   \n",
       "...                              ...        ...       ...   \n",
       "wwwkc.fiscal.treasury.gov       1558       3116      1558   \n",
       "yellowtask.ncifcrf.gov          1558       3116      1558   \n",
       "yokota.tricare.mil              1558       1558      1558   \n",
       "zh-reg.usps.com                 1558       6232      1558   \n",
       "zh-store.usps.com               1558       1558      1558   \n",
       "\n",
       "                           pageviews_per_session  avg_session_duration  \\\n",
       "domain                                                                   \n",
       "tools.usps.com                          1.442343             96.203466   \n",
       "ncbi.nlm.nih.gov                        1.813294            175.393462   \n",
       "cdc.gov                                 1.726185             94.175632   \n",
       "pubmed.ncbi.nlm.nih.gov                 3.178545            242.998822   \n",
       "medlineplus.gov                         1.270685             68.748320   \n",
       "...                                          ...                   ...   \n",
       "wwwkc.fiscal.treasury.gov               2.000000            868.976252   \n",
       "yellowtask.ncifcrf.gov                  2.000000             64.998074   \n",
       "yokota.tricare.mil                      1.000000              0.000000   \n",
       "zh-reg.usps.com                         4.000000            300.991656   \n",
       "zh-store.usps.com                       1.000000             15.999358   \n",
       "\n",
       "                               exits  \n",
       "domain                                \n",
       "tools.usps.com             171018521  \n",
       "ncbi.nlm.nih.gov           122838694  \n",
       "cdc.gov                    109125555  \n",
       "pubmed.ncbi.nlm.nih.gov    108595849  \n",
       "medlineplus.gov             55374473  \n",
       "...                              ...  \n",
       "wwwkc.fiscal.treasury.gov       1558  \n",
       "yellowtask.ncifcrf.gov          1558  \n",
       "yokota.tricare.mil              1558  \n",
       "zh-reg.usps.com                 1558  \n",
       "zh-store.usps.com               1558  \n",
       "\n",
       "[3222 rows x 6 columns]"
      ]
     },
     "execution_count": 237,
     "metadata": {},
     "output_type": "execute_result"
    }
   ],
   "source": [
    "df"
   ]
  },
  {
   "cell_type": "code",
   "execution_count": 238,
   "metadata": {},
   "outputs": [],
   "source": [
    "x = df.shape[0]"
   ]
  },
  {
   "cell_type": "code",
   "execution_count": 239,
   "metadata": {},
   "outputs": [
    {
     "data": {
      "text/plain": [
       "621"
      ]
     },
     "execution_count": 239,
     "metadata": {},
     "output_type": "execute_result"
    }
   ],
   "source": [
    "df.duplicated().sum()\n",
    "#There are 621 duplicate rows"
   ]
  },
  {
   "cell_type": "code",
   "execution_count": 240,
   "metadata": {},
   "outputs": [
    {
     "data": {
      "text/html": [
       "<div>\n",
       "<style scoped>\n",
       "    .dataframe tbody tr th:only-of-type {\n",
       "        vertical-align: middle;\n",
       "    }\n",
       "\n",
       "    .dataframe tbody tr th {\n",
       "        vertical-align: top;\n",
       "    }\n",
       "\n",
       "    .dataframe thead th {\n",
       "        text-align: right;\n",
       "    }\n",
       "</style>\n",
       "<table border=\"1\" class=\"dataframe\">\n",
       "  <thead>\n",
       "    <tr style=\"text-align: right;\">\n",
       "      <th></th>\n",
       "      <th>visits</th>\n",
       "      <th>pageviews</th>\n",
       "      <th>users</th>\n",
       "      <th>pageviews_per_session</th>\n",
       "      <th>avg_session_duration</th>\n",
       "      <th>exits</th>\n",
       "    </tr>\n",
       "    <tr>\n",
       "      <th>domain</th>\n",
       "      <th></th>\n",
       "      <th></th>\n",
       "      <th></th>\n",
       "      <th></th>\n",
       "      <th></th>\n",
       "      <th></th>\n",
       "    </tr>\n",
       "  </thead>\n",
       "  <tbody>\n",
       "    <tr>\n",
       "      <th>dhs.usajobs.gov</th>\n",
       "      <td>12464</td>\n",
       "      <td>12464</td>\n",
       "      <td>12464</td>\n",
       "      <td>1.0</td>\n",
       "      <td>0.000000</td>\n",
       "      <td>12464</td>\n",
       "    </tr>\n",
       "    <tr>\n",
       "      <th>920rqw.afrc.af.mil</th>\n",
       "      <td>10906</td>\n",
       "      <td>10906</td>\n",
       "      <td>9348</td>\n",
       "      <td>1.0</td>\n",
       "      <td>0.000000</td>\n",
       "      <td>10906</td>\n",
       "    </tr>\n",
       "    <tr>\n",
       "      <th>search.gov</th>\n",
       "      <td>10906</td>\n",
       "      <td>10906</td>\n",
       "      <td>10906</td>\n",
       "      <td>1.0</td>\n",
       "      <td>0.000000</td>\n",
       "      <td>10906</td>\n",
       "    </tr>\n",
       "    <tr>\n",
       "      <th>townhall.nasa.gov</th>\n",
       "      <td>9348</td>\n",
       "      <td>9348</td>\n",
       "      <td>4674</td>\n",
       "      <td>1.0</td>\n",
       "      <td>0.000000</td>\n",
       "      <td>9348</td>\n",
       "    </tr>\n",
       "    <tr>\n",
       "      <th>wv.ng.mil</th>\n",
       "      <td>9348</td>\n",
       "      <td>9348</td>\n",
       "      <td>7790</td>\n",
       "      <td>1.0</td>\n",
       "      <td>0.000000</td>\n",
       "      <td>9348</td>\n",
       "    </tr>\n",
       "    <tr>\n",
       "      <th>...</th>\n",
       "      <td>...</td>\n",
       "      <td>...</td>\n",
       "      <td>...</td>\n",
       "      <td>...</td>\n",
       "      <td>...</td>\n",
       "      <td>...</td>\n",
       "    </tr>\n",
       "    <tr>\n",
       "      <th>www-search.uspto.gov</th>\n",
       "      <td>1558</td>\n",
       "      <td>1558</td>\n",
       "      <td>1558</td>\n",
       "      <td>1.0</td>\n",
       "      <td>0.000000</td>\n",
       "      <td>1558</td>\n",
       "    </tr>\n",
       "    <tr>\n",
       "      <th>www1-1-pz.sewp.nasa.gov</th>\n",
       "      <td>1558</td>\n",
       "      <td>1558</td>\n",
       "      <td>1558</td>\n",
       "      <td>1.0</td>\n",
       "      <td>0.000000</td>\n",
       "      <td>1558</td>\n",
       "    </tr>\n",
       "    <tr>\n",
       "      <th>www9.jsc.nasa.gov</th>\n",
       "      <td>1558</td>\n",
       "      <td>1558</td>\n",
       "      <td>1558</td>\n",
       "      <td>1.0</td>\n",
       "      <td>20.999358</td>\n",
       "      <td>0</td>\n",
       "    </tr>\n",
       "    <tr>\n",
       "      <th>wwwbrr.cr.usgs.gov</th>\n",
       "      <td>1558</td>\n",
       "      <td>1558</td>\n",
       "      <td>1558</td>\n",
       "      <td>1.0</td>\n",
       "      <td>0.000000</td>\n",
       "      <td>1558</td>\n",
       "    </tr>\n",
       "    <tr>\n",
       "      <th>yokota.tricare.mil</th>\n",
       "      <td>1558</td>\n",
       "      <td>1558</td>\n",
       "      <td>1558</td>\n",
       "      <td>1.0</td>\n",
       "      <td>0.000000</td>\n",
       "      <td>1558</td>\n",
       "    </tr>\n",
       "  </tbody>\n",
       "</table>\n",
       "<p>621 rows × 6 columns</p>\n",
       "</div>"
      ],
      "text/plain": [
       "                         visits  pageviews  users  pageviews_per_session  \\\n",
       "domain                                                                     \n",
       "dhs.usajobs.gov           12464      12464  12464                    1.0   \n",
       "920rqw.afrc.af.mil        10906      10906   9348                    1.0   \n",
       "search.gov                10906      10906  10906                    1.0   \n",
       "townhall.nasa.gov          9348       9348   4674                    1.0   \n",
       "wv.ng.mil                  9348       9348   7790                    1.0   \n",
       "...                         ...        ...    ...                    ...   \n",
       "www-search.uspto.gov       1558       1558   1558                    1.0   \n",
       "www1-1-pz.sewp.nasa.gov    1558       1558   1558                    1.0   \n",
       "www9.jsc.nasa.gov          1558       1558   1558                    1.0   \n",
       "wwwbrr.cr.usgs.gov         1558       1558   1558                    1.0   \n",
       "yokota.tricare.mil         1558       1558   1558                    1.0   \n",
       "\n",
       "                         avg_session_duration  exits  \n",
       "domain                                                \n",
       "dhs.usajobs.gov                      0.000000  12464  \n",
       "920rqw.afrc.af.mil                   0.000000  10906  \n",
       "search.gov                           0.000000  10906  \n",
       "townhall.nasa.gov                    0.000000   9348  \n",
       "wv.ng.mil                            0.000000   9348  \n",
       "...                                       ...    ...  \n",
       "www-search.uspto.gov                 0.000000   1558  \n",
       "www1-1-pz.sewp.nasa.gov              0.000000   1558  \n",
       "www9.jsc.nasa.gov                   20.999358      0  \n",
       "wwwbrr.cr.usgs.gov                   0.000000   1558  \n",
       "yokota.tricare.mil                   0.000000   1558  \n",
       "\n",
       "[621 rows x 6 columns]"
      ]
     },
     "execution_count": 240,
     "metadata": {},
     "output_type": "execute_result"
    }
   ],
   "source": [
    "df.loc[df.duplicated(keep='first'), :]\n",
    "#Mark Duplciates as true except for the first Occurenct of the duplciate hence the keep = 'first'"
   ]
  },
  {
   "cell_type": "code",
   "execution_count": 241,
   "metadata": {},
   "outputs": [],
   "source": [
    "df = df.drop_duplicates(keep = 'first')"
   ]
  },
  {
   "cell_type": "code",
   "execution_count": 242,
   "metadata": {},
   "outputs": [],
   "source": [
    "y = df.shape[0]"
   ]
  },
  {
   "cell_type": "code",
   "execution_count": 243,
   "metadata": {},
   "outputs": [],
   "source": [
    "number_of_duplicate_rows = x - y"
   ]
  },
  {
   "cell_type": "code",
   "execution_count": 244,
   "metadata": {},
   "outputs": [
    {
     "name": "stdout",
     "output_type": "stream",
     "text": [
      "621\n"
     ]
    }
   ],
   "source": [
    "print(number_of_duplicate_rows)"
   ]
  },
  {
   "cell_type": "code",
   "execution_count": 245,
   "metadata": {},
   "outputs": [],
   "source": [
    "#Understand the top ten most visted websites+\n",
    "df_sorted_visits = df.sort_values(by = \"visits\", ascending = False)"
   ]
  },
  {
   "cell_type": "code",
   "execution_count": 246,
   "metadata": {},
   "outputs": [],
   "source": [
    "#ten most visited websites\n",
    "df_10 = df_sorted_visits.head(10)"
   ]
  },
  {
   "cell_type": "code",
   "execution_count": 247,
   "metadata": {},
   "outputs": [
    {
     "data": {
      "text/plain": [
       "Index(['visits', 'pageviews', 'users', 'pageviews_per_session',\n",
       "       'avg_session_duration', 'exits'],\n",
       "      dtype='object')"
      ]
     },
     "execution_count": 247,
     "metadata": {},
     "output_type": "execute_result"
    }
   ],
   "source": [
    "df_10.columns"
   ]
  },
  {
   "cell_type": "code",
   "execution_count": 248,
   "metadata": {},
   "outputs": [],
   "source": [
    "df_10.reset_index(inplace=True)"
   ]
  },
  {
   "cell_type": "code",
   "execution_count": 249,
   "metadata": {},
   "outputs": [
    {
     "data": {
      "text/plain": [
       "<AxesSubplot:xlabel='domain'>"
      ]
     },
     "execution_count": 249,
     "metadata": {},
     "output_type": "execute_result"
    },
    {
     "data": {
      "image/png": "[encoded data removed]",
      "text/plain": [
       "<Figure size 432x288 with 1 Axes>"
      ]
     },
     "metadata": {
      "needs_background": "light"
     },
     "output_type": "display_data"
    }
   ],
   "source": [
    "df_10.plot(kind = \"bar\", x = \"domain\", y = \"visits\", colormap = 'Paired')"
   ]
  },
  {
   "cell_type": "code",
   "execution_count": 250,
   "metadata": {},
   "outputs": [
    {
     "data": {
      "text/plain": [
       "<AxesSubplot:title={'center':'Top 10 Visited US Government Domains'}, xlabel='Domain', ylabel='Visits (M)'>"
      ]
     },
     "execution_count": 250,
     "metadata": {},
     "output_type": "execute_result"
    },
    {
     "data": {
      "image/png": "[encoded data removed]",
      "text/plain": [
       "<Figure size 432x288 with 1 Axes>"
      ]
     },
     "metadata": {},
     "output_type": "display_data"
    }
   ],
   "source": [
    "sns.set_theme(style=\"whitegrid\")\n",
    "\n",
    "ax = sns.barplot(x=\"domain\", y=\"visits\", data=df_10)\n",
    "ax.set_xticklabels(ax.get_xticklabels(), rotation=45, horizontalalignment='right')\n",
    "ax.set_ylabel(\"Visits (M)\")\n",
    "ax.set_xlabel(\"Domain\")\n",
    "ax.set_title(\"Top 10 Visited US Government Domains\")\n",
    "ax"
   ]
  },
  {
   "cell_type": "code",
   "execution_count": 251,
   "metadata": {},
   "outputs": [
    {
     "data": {
      "text/html": [
       "<div>\n",
       "<style scoped>\n",
       "    .dataframe tbody tr th:only-of-type {\n",
       "        vertical-align: middle;\n",
       "    }\n",
       "\n",
       "    .dataframe tbody tr th {\n",
       "        vertical-align: top;\n",
       "    }\n",
       "\n",
       "    .dataframe thead th {\n",
       "        text-align: right;\n",
       "    }\n",
       "</style>\n",
       "<table border=\"1\" class=\"dataframe\">\n",
       "  <thead>\n",
       "    <tr style=\"text-align: right;\">\n",
       "      <th></th>\n",
       "      <th>domain</th>\n",
       "      <th>visits</th>\n",
       "      <th>pageviews</th>\n",
       "      <th>users</th>\n",
       "      <th>pageviews_per_session</th>\n",
       "      <th>avg_session_duration</th>\n",
       "      <th>exits</th>\n",
       "    </tr>\n",
       "  </thead>\n",
       "  <tbody>\n",
       "    <tr>\n",
       "      <th>0</th>\n",
       "      <td>tools.usps.com</td>\n",
       "      <td>169826683</td>\n",
       "      <td>244948264</td>\n",
       "      <td>61743402</td>\n",
       "      <td>1.442343</td>\n",
       "      <td>96.203466</td>\n",
       "      <td>171018521</td>\n",
       "    </tr>\n",
       "    <tr>\n",
       "      <th>1</th>\n",
       "      <td>ncbi.nlm.nih.gov</td>\n",
       "      <td>124014952</td>\n",
       "      <td>224875543</td>\n",
       "      <td>68751094</td>\n",
       "      <td>1.813294</td>\n",
       "      <td>175.393462</td>\n",
       "      <td>122838694</td>\n",
       "    </tr>\n",
       "    <tr>\n",
       "      <th>2</th>\n",
       "      <td>cdc.gov</td>\n",
       "      <td>109267329</td>\n",
       "      <td>188615647</td>\n",
       "      <td>79109951</td>\n",
       "      <td>1.726185</td>\n",
       "      <td>94.175632</td>\n",
       "      <td>109125555</td>\n",
       "    </tr>\n",
       "    <tr>\n",
       "      <th>3</th>\n",
       "      <td>pubmed.ncbi.nlm.nih.gov</td>\n",
       "      <td>107153181</td>\n",
       "      <td>340591257</td>\n",
       "      <td>53737060</td>\n",
       "      <td>3.178545</td>\n",
       "      <td>242.998822</td>\n",
       "      <td>108595849</td>\n",
       "    </tr>\n",
       "    <tr>\n",
       "      <th>4</th>\n",
       "      <td>medlineplus.gov</td>\n",
       "      <td>55414980</td>\n",
       "      <td>70414992</td>\n",
       "      <td>41750137</td>\n",
       "      <td>1.270685</td>\n",
       "      <td>68.748320</td>\n",
       "      <td>55374473</td>\n",
       "    </tr>\n",
       "    <tr>\n",
       "      <th>5</th>\n",
       "      <td>irs.gov</td>\n",
       "      <td>45648146</td>\n",
       "      <td>119657345</td>\n",
       "      <td>23740152</td>\n",
       "      <td>2.621297</td>\n",
       "      <td>138.799386</td>\n",
       "      <td>45210360</td>\n",
       "    </tr>\n",
       "    <tr>\n",
       "      <th>6</th>\n",
       "      <td>forecast.weather.gov</td>\n",
       "      <td>42544695</td>\n",
       "      <td>83129481</td>\n",
       "      <td>10008317</td>\n",
       "      <td>1.953933</td>\n",
       "      <td>98.654644</td>\n",
       "      <td>44140044</td>\n",
       "    </tr>\n",
       "    <tr>\n",
       "      <th>7</th>\n",
       "      <td>informeddelivery.usps.com</td>\n",
       "      <td>39938233</td>\n",
       "      <td>99230968</td>\n",
       "      <td>8847639</td>\n",
       "      <td>2.484611</td>\n",
       "      <td>76.835849</td>\n",
       "      <td>45468981</td>\n",
       "    </tr>\n",
       "    <tr>\n",
       "      <th>8</th>\n",
       "      <td>reg.usps.com</td>\n",
       "      <td>36826992</td>\n",
       "      <td>49871768</td>\n",
       "      <td>15799244</td>\n",
       "      <td>1.354218</td>\n",
       "      <td>49.125688</td>\n",
       "      <td>30694873</td>\n",
       "    </tr>\n",
       "    <tr>\n",
       "      <th>9</th>\n",
       "      <td>ssa.gov</td>\n",
       "      <td>29169633</td>\n",
       "      <td>68360046</td>\n",
       "      <td>17174920</td>\n",
       "      <td>2.343535</td>\n",
       "      <td>177.471077</td>\n",
       "      <td>28988910</td>\n",
       "    </tr>\n",
       "  </tbody>\n",
       "</table>\n",
       "</div>"
      ],
      "text/plain": [
       "                      domain     visits  pageviews     users  \\\n",
       "0             tools.usps.com  169826683  244948264  61743402   \n",
       "1           ncbi.nlm.nih.gov  124014952  224875543  68751094   \n",
       "2                    cdc.gov  109267329  188615647  79109951   \n",
       "3    pubmed.ncbi.nlm.nih.gov  107153181  340591257  53737060   \n",
       "4            medlineplus.gov   55414980   70414992  41750137   \n",
       "5                    irs.gov   45648146  119657345  23740152   \n",
       "6       forecast.weather.gov   42544695   83129481  10008317   \n",
       "7  informeddelivery.usps.com   39938233   99230968   8847639   \n",
       "8               reg.usps.com   36826992   49871768  15799244   \n",
       "9                    ssa.gov   29169633   68360046  17174920   \n",
       "\n",
       "   pageviews_per_session  avg_session_duration      exits  \n",
       "0               1.442343             96.203466  171018521  \n",
       "1               1.813294            175.393462  122838694  \n",
       "2               1.726185             94.175632  109125555  \n",
       "3               3.178545            242.998822  108595849  \n",
       "4               1.270685             68.748320   55374473  \n",
       "5               2.621297            138.799386   45210360  \n",
       "6               1.953933             98.654644   44140044  \n",
       "7               2.484611             76.835849   45468981  \n",
       "8               1.354218             49.125688   30694873  \n",
       "9               2.343535            177.471077   28988910  "
      ]
     },
     "execution_count": 251,
     "metadata": {},
     "output_type": "execute_result"
    }
   ],
   "source": [
    "df_10"
   ]
  },
  {
   "cell_type": "code",
   "execution_count": 252,
   "metadata": {},
   "outputs": [
    {
     "name": "stderr",
     "output_type": "stream",
     "text": [
      "<ipython-input-252-9a2d57c24d5d>:1: SettingWithCopyWarning: \n",
      "A value is trying to be set on a copy of a slice from a DataFrame.\n",
      "Try using .loc[row_indexer,col_indexer] = value instead\n",
      "\n",
      "See the caveats in the documentation: https://pandas.pydata.org/pandas-docs/stable/user_guide/indexing.html#returning-a-view-versus-a-copy\n",
      "  df_10['time_spent_per_page'] = (df_10['avg_session_duration']/df_10['pageviews_per_session'])\n"
     ]
    }
   ],
   "source": [
    "df_10['time_spent_per_page'] = (df_10['avg_session_duration']/df_10['pageviews_per_session'])"
   ]
  },
  {
   "cell_type": "code",
   "execution_count": 253,
   "metadata": {},
   "outputs": [
    {
     "data": {
      "text/html": [
       "<div>\n",
       "<style scoped>\n",
       "    .dataframe tbody tr th:only-of-type {\n",
       "        vertical-align: middle;\n",
       "    }\n",
       "\n",
       "    .dataframe tbody tr th {\n",
       "        vertical-align: top;\n",
       "    }\n",
       "\n",
       "    .dataframe thead th {\n",
       "        text-align: right;\n",
       "    }\n",
       "</style>\n",
       "<table border=\"1\" class=\"dataframe\">\n",
       "  <thead>\n",
       "    <tr style=\"text-align: right;\">\n",
       "      <th></th>\n",
       "      <th>domain</th>\n",
       "      <th>visits</th>\n",
       "      <th>pageviews</th>\n",
       "      <th>users</th>\n",
       "      <th>pageviews_per_session</th>\n",
       "      <th>avg_session_duration</th>\n",
       "      <th>exits</th>\n",
       "      <th>time_spent_per_page</th>\n",
       "    </tr>\n",
       "  </thead>\n",
       "  <tbody>\n",
       "    <tr>\n",
       "      <th>0</th>\n",
       "      <td>tools.usps.com</td>\n",
       "      <td>169826683</td>\n",
       "      <td>244948264</td>\n",
       "      <td>61743402</td>\n",
       "      <td>1.442343</td>\n",
       "      <td>96.203466</td>\n",
       "      <td>171018521</td>\n",
       "      <td>66.699454</td>\n",
       "    </tr>\n",
       "    <tr>\n",
       "      <th>1</th>\n",
       "      <td>ncbi.nlm.nih.gov</td>\n",
       "      <td>124014952</td>\n",
       "      <td>224875543</td>\n",
       "      <td>68751094</td>\n",
       "      <td>1.813294</td>\n",
       "      <td>175.393462</td>\n",
       "      <td>122838694</td>\n",
       "      <td>96.726445</td>\n",
       "    </tr>\n",
       "    <tr>\n",
       "      <th>2</th>\n",
       "      <td>cdc.gov</td>\n",
       "      <td>109267329</td>\n",
       "      <td>188615647</td>\n",
       "      <td>79109951</td>\n",
       "      <td>1.726185</td>\n",
       "      <td>94.175632</td>\n",
       "      <td>109125555</td>\n",
       "      <td>54.557085</td>\n",
       "    </tr>\n",
       "    <tr>\n",
       "      <th>3</th>\n",
       "      <td>pubmed.ncbi.nlm.nih.gov</td>\n",
       "      <td>107153181</td>\n",
       "      <td>340591257</td>\n",
       "      <td>53737060</td>\n",
       "      <td>3.178545</td>\n",
       "      <td>242.998822</td>\n",
       "      <td>108595849</td>\n",
       "      <td>76.449692</td>\n",
       "    </tr>\n",
       "    <tr>\n",
       "      <th>4</th>\n",
       "      <td>medlineplus.gov</td>\n",
       "      <td>55414980</td>\n",
       "      <td>70414992</td>\n",
       "      <td>41750137</td>\n",
       "      <td>1.270685</td>\n",
       "      <td>68.748320</td>\n",
       "      <td>55374473</td>\n",
       "      <td>54.103347</td>\n",
       "    </tr>\n",
       "    <tr>\n",
       "      <th>5</th>\n",
       "      <td>irs.gov</td>\n",
       "      <td>45648146</td>\n",
       "      <td>119657345</td>\n",
       "      <td>23740152</td>\n",
       "      <td>2.621297</td>\n",
       "      <td>138.799386</td>\n",
       "      <td>45210360</td>\n",
       "      <td>52.950654</td>\n",
       "    </tr>\n",
       "    <tr>\n",
       "      <th>6</th>\n",
       "      <td>forecast.weather.gov</td>\n",
       "      <td>42544695</td>\n",
       "      <td>83129481</td>\n",
       "      <td>10008317</td>\n",
       "      <td>1.953933</td>\n",
       "      <td>98.654644</td>\n",
       "      <td>44140044</td>\n",
       "      <td>50.490292</td>\n",
       "    </tr>\n",
       "    <tr>\n",
       "      <th>7</th>\n",
       "      <td>informeddelivery.usps.com</td>\n",
       "      <td>39938233</td>\n",
       "      <td>99230968</td>\n",
       "      <td>8847639</td>\n",
       "      <td>2.484611</td>\n",
       "      <td>76.835849</td>\n",
       "      <td>45468981</td>\n",
       "      <td>30.924701</td>\n",
       "    </tr>\n",
       "    <tr>\n",
       "      <th>8</th>\n",
       "      <td>reg.usps.com</td>\n",
       "      <td>36826992</td>\n",
       "      <td>49871768</td>\n",
       "      <td>15799244</td>\n",
       "      <td>1.354218</td>\n",
       "      <td>49.125688</td>\n",
       "      <td>30694873</td>\n",
       "      <td>36.276061</td>\n",
       "    </tr>\n",
       "    <tr>\n",
       "      <th>9</th>\n",
       "      <td>ssa.gov</td>\n",
       "      <td>29169633</td>\n",
       "      <td>68360046</td>\n",
       "      <td>17174920</td>\n",
       "      <td>2.343535</td>\n",
       "      <td>177.471077</td>\n",
       "      <td>28988910</td>\n",
       "      <td>75.727951</td>\n",
       "    </tr>\n",
       "  </tbody>\n",
       "</table>\n",
       "</div>"
      ],
      "text/plain": [
       "                      domain     visits  pageviews     users  \\\n",
       "0             tools.usps.com  169826683  244948264  61743402   \n",
       "1           ncbi.nlm.nih.gov  124014952  224875543  68751094   \n",
       "2                    cdc.gov  109267329  188615647  79109951   \n",
       "3    pubmed.ncbi.nlm.nih.gov  107153181  340591257  53737060   \n",
       "4            medlineplus.gov   55414980   70414992  41750137   \n",
       "5                    irs.gov   45648146  119657345  23740152   \n",
       "6       forecast.weather.gov   42544695   83129481  10008317   \n",
       "7  informeddelivery.usps.com   39938233   99230968   8847639   \n",
       "8               reg.usps.com   36826992   49871768  15799244   \n",
       "9                    ssa.gov   29169633   68360046  17174920   \n",
       "\n",
       "   pageviews_per_session  avg_session_duration      exits  time_spent_per_page  \n",
       "0               1.442343             96.203466  171018521            66.699454  \n",
       "1               1.813294            175.393462  122838694            96.726445  \n",
       "2               1.726185             94.175632  109125555            54.557085  \n",
       "3               3.178545            242.998822  108595849            76.449692  \n",
       "4               1.270685             68.748320   55374473            54.103347  \n",
       "5               2.621297            138.799386   45210360            52.950654  \n",
       "6               1.953933             98.654644   44140044            50.490292  \n",
       "7               2.484611             76.835849   45468981            30.924701  \n",
       "8               1.354218             49.125688   30694873            36.276061  \n",
       "9               2.343535            177.471077   28988910            75.727951  "
      ]
     },
     "execution_count": 253,
     "metadata": {},
     "output_type": "execute_result"
    }
   ],
   "source": [
    "df_10"
   ]
  },
  {
   "cell_type": "code",
   "execution_count": 254,
   "metadata": {},
   "outputs": [],
   "source": [
    "df_10 = df_10.sort_values([\"users\", \"time_spent_per_page\"], ascending = (False, True))"
   ]
  },
  {
   "cell_type": "code",
   "execution_count": 255,
   "metadata": {},
   "outputs": [
    {
     "data": {
      "image/png": "[encoded data removed]",
      "text/plain": [
       "<Figure size 432x288 with 1 Axes>"
      ]
     },
     "metadata": {},
     "output_type": "display_data"
    },
    {
     "data": {
      "image/png": "[encoded data removed]",
      "text/plain": [
       "<Figure size 432x288 with 1 Axes>"
      ]
     },
     "metadata": {},
     "output_type": "display_data"
    }
   ],
   "source": [
    "\n",
    "df_10.plot(kind = \"line\", x = \"domain\", y = \"time_spent_per_page\")\n",
    "df_10.plot(kind = \"line\", x = \"domain\", y = \"visits\")\n",
    "plt.show()"
   ]
  },
  {
   "cell_type": "code",
   "execution_count": 256,
   "metadata": {},
   "outputs": [
    {
     "data": {
      "text/plain": [
       "<AxesSubplot:title={'center':'Top 10 US Government Domain Visit Durations'}, xlabel='Domain', ylabel='Time Spent Per Page (Seconds)'>"
      ]
     },
     "execution_count": 256,
     "metadata": {},
     "output_type": "execute_result"
    },
    {
     "data": {
      "image/png": "[encoded data removed]",
      "text/plain": [
       "<Figure size 432x288 with 1 Axes>"
      ]
     },
     "metadata": {},
     "output_type": "display_data"
    }
   ],
   "source": [
    "df_10_sorted_time = df_10.sort_values(by = \"time_spent_per_page\", ascending = False)\n",
    "sns.set_theme(style=\"whitegrid\")\n",
    "\n",
    "ax = sns.barplot(x=\"domain\", y=\"time_spent_per_page\", data=df_10_sorted_time)\n",
    "ax.set_xticklabels(ax.get_xticklabels(), rotation=45, horizontalalignment='right')\n",
    "ax.set_ylabel(\"Time Spent Per Page (Seconds)\")\n",
    "ax.set_xlabel(\"Domain\")\n",
    "ax.set_title(\"Top 10 US Government Domain Visit Durations\")\n",
    "ax"
   ]
  },
  {
   "cell_type": "code",
   "execution_count": 257,
   "metadata": {
    "scrolled": true
   },
   "outputs": [
    {
     "name": "stdout",
     "output_type": "stream",
     "text": [
      "0.5411544129865875\n"
     ]
    }
   ],
   "source": [
    "correlation = df_10[\"time_spent_per_page\"].corr(df_10['visits'])\n",
    "print(correlation)"
   ]
  },
  {
   "cell_type": "code",
   "execution_count": 258,
   "metadata": {},
   "outputs": [
    {
     "data": {
      "text/plain": [
       "<AxesSubplot:xlabel='domain'>"
      ]
     },
     "execution_count": 258,
     "metadata": {},
     "output_type": "execute_result"
    },
    {
     "data": {
      "image/png": "[encoded data removed]",
      "text/plain": [
       "<Figure size 432x288 with 1 Axes>"
      ]
     },
     "metadata": {},
     "output_type": "display_data"
    }
   ],
   "source": [
    "df_10 = df_10.sort_values('avg_session_duration', ascending = False)\n",
    "df_10.plot(x = \"domain\", y = [\"avg_session_duration\", \"time_spent_per_page\"], kind = 'bar')"
   ]
  },
  {
   "cell_type": "code",
   "execution_count": null,
   "metadata": {},
   "outputs": [],
   "source": []
  },
  {
   "cell_type": "code",
   "execution_count": 259,
   "metadata": {},
   "outputs": [
    {
     "name": "stdout",
     "output_type": "stream",
     "text": [
      "0.7660614356869898\n"
     ]
    }
   ],
   "source": [
    "correlation = df_10[\"time_spent_per_page\"].corr(df_10['avg_session_duration'])\n",
    "print(correlation)"
   ]
  },
  {
   "cell_type": "code",
   "execution_count": 260,
   "metadata": {},
   "outputs": [
    {
     "name": "stdout",
     "output_type": "stream",
     "text": [
      "There is a strong correlation between the orginal columns Average_Session_Duation and the column we made Time_Spent_Per_Page. Which makes perfect sense. This may aslo indciate which websites the goverment may need to simplify to be\n"
     ]
    }
   ],
   "source": [
    "print(\"There is a strong correlation between the orginal columns Average_Session_Duation and the column we made Time_Spent_Per_Page. Which makes perfect sense. This may aslo indciate which websites the goverment may need to simplify to be\".format(correlation))"
   ]
  },
  {
   "cell_type": "code",
   "execution_count": null,
   "metadata": {},
   "outputs": [],
   "source": []
  },
  {
   "cell_type": "code",
   "execution_count": null,
   "metadata": {},
   "outputs": [],
   "source": []
  },
  {
   "cell_type": "code",
   "execution_count": 261,
   "metadata": {},
   "outputs": [
    {
     "name": "stdout",
     "output_type": "stream",
     "text": [
      "Sice the correlation is 0.7660614356869898 the two variabvles move in tandem however since the correaltion is in the range of .3 and .5 there is a weak relaitonship between the two variables\n"
     ]
    }
   ],
   "source": [
    "print(\"Sice the correlation is {} the two variabvles move in tandem however since the correaltion is in the range of .3 and .5 there is a weak relaitonship between the two variables\".format(correlation))"
   ]
  },
  {
   "cell_type": "code",
   "execution_count": 262,
   "metadata": {},
   "outputs": [],
   "source": [
    "df_10[\"percent_diff_users_visits\"] = ((df_10['visits']-df_10['users'])/df_10['users'])"
   ]
  },
  {
   "cell_type": "code",
   "execution_count": 263,
   "metadata": {},
   "outputs": [
    {
     "data": {
      "text/html": [
       "<div>\n",
       "<style scoped>\n",
       "    .dataframe tbody tr th:only-of-type {\n",
       "        vertical-align: middle;\n",
       "    }\n",
       "\n",
       "    .dataframe tbody tr th {\n",
       "        vertical-align: top;\n",
       "    }\n",
       "\n",
       "    .dataframe thead th {\n",
       "        text-align: right;\n",
       "    }\n",
       "</style>\n",
       "<table border=\"1\" class=\"dataframe\">\n",
       "  <thead>\n",
       "    <tr style=\"text-align: right;\">\n",
       "      <th></th>\n",
       "      <th>domain</th>\n",
       "      <th>visits</th>\n",
       "      <th>pageviews</th>\n",
       "      <th>users</th>\n",
       "      <th>pageviews_per_session</th>\n",
       "      <th>avg_session_duration</th>\n",
       "      <th>exits</th>\n",
       "      <th>time_spent_per_page</th>\n",
       "      <th>percent_diff_users_visits</th>\n",
       "    </tr>\n",
       "  </thead>\n",
       "  <tbody>\n",
       "    <tr>\n",
       "      <th>3</th>\n",
       "      <td>pubmed.ncbi.nlm.nih.gov</td>\n",
       "      <td>107153181</td>\n",
       "      <td>340591257</td>\n",
       "      <td>53737060</td>\n",
       "      <td>3.178545</td>\n",
       "      <td>242.998822</td>\n",
       "      <td>108595849</td>\n",
       "      <td>76.449692</td>\n",
       "      <td>0.994028</td>\n",
       "    </tr>\n",
       "    <tr>\n",
       "      <th>9</th>\n",
       "      <td>ssa.gov</td>\n",
       "      <td>29169633</td>\n",
       "      <td>68360046</td>\n",
       "      <td>17174920</td>\n",
       "      <td>2.343535</td>\n",
       "      <td>177.471077</td>\n",
       "      <td>28988910</td>\n",
       "      <td>75.727951</td>\n",
       "      <td>0.698385</td>\n",
       "    </tr>\n",
       "    <tr>\n",
       "      <th>1</th>\n",
       "      <td>ncbi.nlm.nih.gov</td>\n",
       "      <td>124014952</td>\n",
       "      <td>224875543</td>\n",
       "      <td>68751094</td>\n",
       "      <td>1.813294</td>\n",
       "      <td>175.393462</td>\n",
       "      <td>122838694</td>\n",
       "      <td>96.726445</td>\n",
       "      <td>0.803825</td>\n",
       "    </tr>\n",
       "    <tr>\n",
       "      <th>5</th>\n",
       "      <td>irs.gov</td>\n",
       "      <td>45648146</td>\n",
       "      <td>119657345</td>\n",
       "      <td>23740152</td>\n",
       "      <td>2.621297</td>\n",
       "      <td>138.799386</td>\n",
       "      <td>45210360</td>\n",
       "      <td>52.950654</td>\n",
       "      <td>0.922825</td>\n",
       "    </tr>\n",
       "    <tr>\n",
       "      <th>6</th>\n",
       "      <td>forecast.weather.gov</td>\n",
       "      <td>42544695</td>\n",
       "      <td>83129481</td>\n",
       "      <td>10008317</td>\n",
       "      <td>1.953933</td>\n",
       "      <td>98.654644</td>\n",
       "      <td>44140044</td>\n",
       "      <td>50.490292</td>\n",
       "      <td>3.250934</td>\n",
       "    </tr>\n",
       "    <tr>\n",
       "      <th>0</th>\n",
       "      <td>tools.usps.com</td>\n",
       "      <td>169826683</td>\n",
       "      <td>244948264</td>\n",
       "      <td>61743402</td>\n",
       "      <td>1.442343</td>\n",
       "      <td>96.203466</td>\n",
       "      <td>171018521</td>\n",
       "      <td>66.699454</td>\n",
       "      <td>1.750524</td>\n",
       "    </tr>\n",
       "    <tr>\n",
       "      <th>2</th>\n",
       "      <td>cdc.gov</td>\n",
       "      <td>109267329</td>\n",
       "      <td>188615647</td>\n",
       "      <td>79109951</td>\n",
       "      <td>1.726185</td>\n",
       "      <td>94.175632</td>\n",
       "      <td>109125555</td>\n",
       "      <td>54.557085</td>\n",
       "      <td>0.381208</td>\n",
       "    </tr>\n",
       "    <tr>\n",
       "      <th>7</th>\n",
       "      <td>informeddelivery.usps.com</td>\n",
       "      <td>39938233</td>\n",
       "      <td>99230968</td>\n",
       "      <td>8847639</td>\n",
       "      <td>2.484611</td>\n",
       "      <td>76.835849</td>\n",
       "      <td>45468981</td>\n",
       "      <td>30.924701</td>\n",
       "      <td>3.513999</td>\n",
       "    </tr>\n",
       "    <tr>\n",
       "      <th>4</th>\n",
       "      <td>medlineplus.gov</td>\n",
       "      <td>55414980</td>\n",
       "      <td>70414992</td>\n",
       "      <td>41750137</td>\n",
       "      <td>1.270685</td>\n",
       "      <td>68.748320</td>\n",
       "      <td>55374473</td>\n",
       "      <td>54.103347</td>\n",
       "      <td>0.327301</td>\n",
       "    </tr>\n",
       "    <tr>\n",
       "      <th>8</th>\n",
       "      <td>reg.usps.com</td>\n",
       "      <td>36826992</td>\n",
       "      <td>49871768</td>\n",
       "      <td>15799244</td>\n",
       "      <td>1.354218</td>\n",
       "      <td>49.125688</td>\n",
       "      <td>30694873</td>\n",
       "      <td>36.276061</td>\n",
       "      <td>1.330934</td>\n",
       "    </tr>\n",
       "  </tbody>\n",
       "</table>\n",
       "</div>"
      ],
      "text/plain": [
       "                      domain     visits  pageviews     users  \\\n",
       "3    pubmed.ncbi.nlm.nih.gov  107153181  340591257  53737060   \n",
       "9                    ssa.gov   29169633   68360046  17174920   \n",
       "1           ncbi.nlm.nih.gov  124014952  224875543  68751094   \n",
       "5                    irs.gov   45648146  119657345  23740152   \n",
       "6       forecast.weather.gov   42544695   83129481  10008317   \n",
       "0             tools.usps.com  169826683  244948264  61743402   \n",
       "2                    cdc.gov  109267329  188615647  79109951   \n",
       "7  informeddelivery.usps.com   39938233   99230968   8847639   \n",
       "4            medlineplus.gov   55414980   70414992  41750137   \n",
       "8               reg.usps.com   36826992   49871768  15799244   \n",
       "\n",
       "   pageviews_per_session  avg_session_duration      exits  \\\n",
       "3               3.178545            242.998822  108595849   \n",
       "9               2.343535            177.471077   28988910   \n",
       "1               1.813294            175.393462  122838694   \n",
       "5               2.621297            138.799386   45210360   \n",
       "6               1.953933             98.654644   44140044   \n",
       "0               1.442343             96.203466  171018521   \n",
       "2               1.726185             94.175632  109125555   \n",
       "7               2.484611             76.835849   45468981   \n",
       "4               1.270685             68.748320   55374473   \n",
       "8               1.354218             49.125688   30694873   \n",
       "\n",
       "   time_spent_per_page  percent_diff_users_visits  \n",
       "3            76.449692                   0.994028  \n",
       "9            75.727951                   0.698385  \n",
       "1            96.726445                   0.803825  \n",
       "5            52.950654                   0.922825  \n",
       "6            50.490292                   3.250934  \n",
       "0            66.699454                   1.750524  \n",
       "2            54.557085                   0.381208  \n",
       "7            30.924701                   3.513999  \n",
       "4            54.103347                   0.327301  \n",
       "8            36.276061                   1.330934  "
      ]
     },
     "execution_count": 263,
     "metadata": {},
     "output_type": "execute_result"
    }
   ],
   "source": [
    "df_10"
   ]
  },
  {
   "cell_type": "code",
   "execution_count": 264,
   "metadata": {},
   "outputs": [
    {
     "data": {
      "image/png": "[encoded data removed]",
      "text/plain": [
       "<Figure size 432x288 with 1 Axes>"
      ]
     },
     "metadata": {},
     "output_type": "display_data"
    }
   ],
   "source": [
    "df_10 = df_10.sort_values('percent_diff_users_visits', ascending = False)\n",
    "df_10.plot(kind = \"bar\", x = \"domain\", y = \"percent_diff_users_visits\")\n",
    "plt.show()"
   ]
  },
  {
   "cell_type": "code",
   "execution_count": 265,
   "metadata": {},
   "outputs": [
    {
     "data": {
      "text/plain": [
       "<AxesSubplot:title={'center':'Top 10 US Government Domain Visit Durations'}, xlabel='Domain', ylabel='Time Spent Per Page (Seconds)'>"
      ]
     },
     "execution_count": 265,
     "metadata": {},
     "output_type": "execute_result"
    },
    {
     "data": {
      "image/png": "[encoded data removed]",
      "text/plain": [
       "<Figure size 432x288 with 1 Axes>"
      ]
     },
     "metadata": {},
     "output_type": "display_data"
    }
   ],
   "source": [
    "sns.set_theme(style=\"whitegrid\")\n",
    "\n",
    "ax = sns.barplot(x=\"domain\", y=\"percent_diff_users_visits\", data=df_10)\n",
    "ax.set_xticklabels(ax.get_xticklabels(), rotation=45, horizontalalignment='right')\n",
    "ax.set_ylabel(\"Time Spent Per Page (Seconds)\")\n",
    "ax.set_xlabel(\"Domain\")\n",
    "ax.set_title(\"Top 10 US Government Domain Visit Durations\")\n",
    "ax\n",
    "#NEED TO CHANGE AXES (ANY GOOD NAMES IN MIND?)"
   ]
  },
  {
   "cell_type": "code",
   "execution_count": 219,
   "metadata": {},
   "outputs": [
    {
     "name": "stdout",
     "output_type": "stream",
     "text": [
      "0.8594456904259306\n"
     ]
    }
   ],
   "source": [
    "correlation = df_10[\"visits\"].corr(df_10['users'])\n",
    "print(correlation)"
   ]
  },
  {
   "cell_type": "code",
   "execution_count": 221,
   "metadata": {},
   "outputs": [
    {
     "name": "stdout",
     "output_type": "stream",
     "text": [
      "Obvoiusly there will be a strong correlation of 0.8594456904259306 between visits and users. However what I found most intresting in the percent change grpah is the 3/4 websites were mailing sites. The reasoning behind this coould be that since they are all usps website and people typcially don't have user accounts for usps websites\n"
     ]
    }
   ],
   "source": [
    "print(\"Obviously there will be a strong correlation of {} between visits and users. However what I found most intresting in the percent change grpah is the 3/4 websites were mailing sites. The reasoning behind this coould be that since they are all usps website and people typcially don't have user accounts for usps websites\".format(correlation))"
   ]
  },
  {
   "cell_type": "code",
   "execution_count": null,
   "metadata": {},
   "outputs": [],
   "source": []
  }
 ],
 "metadata": {
  "kernelspec": {
   "display_name": "Python 3",
   "language": "python",
   "name": "python3"
  },
  "language_info": {
   "codemirror_mode": {
    "name": "ipython",
    "version": 3
   },
   "file_extension": ".py",
   "mimetype": "text/x-python",
   "name": "python",
   "nbconvert_exporter": "python",
   "pygments_lexer": "ipython3",
   "version": "3.8.8"
  }
 },
 "nbformat": 4,
 "nbformat_minor": 4
}
